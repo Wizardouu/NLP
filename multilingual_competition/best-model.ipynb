{
 "cells": [
  {
   "cell_type": "code",
   "execution_count": 3,
   "metadata": {
    "execution": {
     "iopub.execute_input": "2024-10-18T21:13:51.172885Z",
     "iopub.status.busy": "2024-10-18T21:13:51.172628Z",
     "iopub.status.idle": "2024-10-18T21:13:52.503134Z",
     "shell.execute_reply": "2024-10-18T21:13:52.502327Z",
     "shell.execute_reply.started": "2024-10-18T21:13:51.172855Z"
    },
    "trusted": true
   },
   "outputs": [],
   "source": [
    "from datasets import load_dataset\n",
    "\n",
    "ds = load_dataset(\"Jinyan1/COLING_2025_MGT_multingual\")"
   ]
  },
  {
   "cell_type": "code",
   "execution_count": 4,
   "metadata": {
    "execution": {
     "iopub.execute_input": "2024-10-18T21:13:52.531236Z",
     "iopub.status.busy": "2024-10-18T21:13:52.530574Z",
     "iopub.status.idle": "2024-10-18T21:13:58.807400Z",
     "shell.execute_reply": "2024-10-18T21:13:58.806469Z",
     "shell.execute_reply.started": "2024-10-18T21:13:52.531204Z"
    },
    "trusted": true
   },
   "outputs": [
    {
     "name": "stdout",
     "output_type": "stream",
     "text": [
      "                                     id source   sub_source lang        model  \\\n",
      "0  808a846d-41c1-46ff-80ab-892b01bec5f3   m4gt        arxiv   en  gemma-7b-it   \n",
      "1  673ec6fc-624a-4ad5-8d5f-a5950b0e5432   mage           wp   en        human   \n",
      "2  3059e6e4-1724-4745-a833-cbb6bfb4acd8   mage         xsum   en   flan_t5_xl   \n",
      "3  4ca1cde7-6dbd-4519-b60c-7f8c8fcd0d36    hc3      open_qa   zh       gpt-35   \n",
      "4  f9cca231-ed31-45a9-a448-99245f72e32c    hc3  reddit_eli5   en       gpt-35   \n",
      "\n",
      "   label                                               text  \n",
      "0      1  This report summarizes the findings of the US ...  \n",
      "1      0  I've been standing here for days now. Watching...  \n",
      "2      1  Towell, 25, was knocked down twice during the ...  \n",
      "3      1  我不确定你想要问的是什么，但是阿玛尼是一个奢侈品牌，它的产品包括化妆品、香水和时装。黑手党是...  \n",
      "4      1  Sometimes when we eat certain types of food, o...  \n",
      "                                     id source        sub_source lang   model  \\\n",
      "0  8a6ce8d6-a07c-4a2b-831e-db606a7d46ad   mage                wp   en      7B   \n",
      "1  e811404e-fd66-4e58-a2d4-e0e3d5a4b38b   mage              eli5   en   human   \n",
      "2  963c8b72-a7d1-4af8-babd-20dc67248e6d    hc3       reddit_eli5   en   human   \n",
      "3  c9bf362f-6329-405d-9b86-3a6312179eb3   m4gt  True & Fake News   bg   human   \n",
      "4  a61f9bd7-58ec-4339-ac15-c107d2a0f9e8   mage             squad   en  t0_11b   \n",
      "\n",
      "   label                                               text  \n",
      "0      1  The United Nations declared war has been illeg...  \n",
      "1      0  Horse bones are incredibly dense and under a m...  \n",
      "2      0  Balls originally form in the abdomen . And eve...  \n",
      "3      0  Несъгласие с предложенията на служебния минист...  \n",
      "4      1  Temujin began his ascent to power by offering ...  \n"
     ]
    }
   ],
   "source": [
    "import pandas\n",
    "\n",
    "train_df = ds['train'].to_pandas()\n",
    "dev_df = ds['dev'].to_pandas()\n",
    "\n",
    "print(train_df.head())\n",
    "print(dev_df.head())"
   ]
  },
  {
   "cell_type": "code",
   "execution_count": 13,
   "metadata": {
    "execution": {
     "iopub.execute_input": "2024-10-18T21:22:03.642770Z",
     "iopub.status.busy": "2024-10-18T21:22:03.642055Z",
     "iopub.status.idle": "2024-10-18T21:22:07.395586Z",
     "shell.execute_reply": "2024-10-18T21:22:07.394558Z",
     "shell.execute_reply.started": "2024-10-18T21:22:03.642730Z"
    },
    "trusted": true
   },
   "outputs": [
    {
     "name": "stdout",
     "output_type": "stream",
     "text": [
      "Num GPUs Available:  1\n"
     ]
    },
    {
     "name": "stderr",
     "output_type": "stream",
     "text": [
      "Some weights of the PyTorch model were not used when initializing the TF 2.0 model TFDistilBertModel: ['vocab_layer_norm.bias', 'vocab_projector.bias', 'vocab_layer_norm.weight', 'vocab_transform.bias', 'vocab_transform.weight']\n",
      "- This IS expected if you are initializing TFDistilBertModel from a PyTorch model trained on another task or with another architecture (e.g. initializing a TFBertForSequenceClassification model from a BertForPreTraining model).\n",
      "- This IS NOT expected if you are initializing TFDistilBertModel from a PyTorch model that you expect to be exactly identical (e.g. initializing a TFBertForSequenceClassification model from a BertForSequenceClassification model).\n",
      "All the weights of TFDistilBertModel were initialized from the PyTorch model.\n",
      "If your task is similar to the task the model of the checkpoint was trained on, you can already use TFDistilBertModel for predictions without further training.\n"
     ]
    }
   ],
   "source": [
    "max_length = 128\n",
    "from transformers import DistilBertTokenizer, TFDistilBertModel\n",
    "import tensorflow as tf\n",
    "print(\"Num GPUs Available: \", len(tf.config.list_physical_devices('GPU')))\n",
    "import pickle\n",
    "\n",
    "tokenizer = DistilBertTokenizer.from_pretrained('distilbert-base-multilingual-cased')\n",
    "distilbert_model = TFDistilBertModel.from_pretrained('distilbert-base-multilingual-cased')\n",
    "\n",
    "train_texts = train_df['text'].tolist()\n",
    "train_langs = train_df['lang'].tolist()\n",
    "train_labels = train_df['label'].values\n",
    "\n",
    "dev_texts = dev_df['text'].tolist()\n",
    "dev_langs = dev_df['lang'].tolist()\n",
    "dev_labels = dev_df['label'].values\n",
    "\n",
    "with open('/kaggle/input/train-ids/input_ids.pkl', 'rb') as file:\n",
    "    train_input_ids = pickle.load(file)\n",
    "with open('/kaggle/input/train-attention/attention_masks.pkl', 'rb') as file:\n",
    "    train_encodings_attention = pickle.load(file)\n",
    "with open('/kaggle/input/dev-attention/dev_attention.pkl', 'rb') as file:\n",
    "    dev_encodings_attention = pickle.load(file)\n",
    "with open('/kaggle/input/dev-input-ids/dev_input_ids.pkl', 'rb') as file:\n",
    "    dev_input_ids = pickle.load(file)"
   ]
  },
  {
   "cell_type": "code",
   "execution_count": 14,
   "metadata": {
    "execution": {
     "iopub.execute_input": "2024-10-18T21:22:07.397600Z",
     "iopub.status.busy": "2024-10-18T21:22:07.397270Z",
     "iopub.status.idle": "2024-10-18T21:22:10.745183Z",
     "shell.execute_reply": "2024-10-18T21:22:10.744135Z",
     "shell.execute_reply.started": "2024-10-18T21:22:07.397566Z"
    },
    "trusted": true
   },
   "outputs": [],
   "source": [
    "def create_classification_model():\n",
    "    input_ids = tf.keras.layers.Input(shape=(max_length,), dtype=tf.int32, name=\"input_ids\")\n",
    "    attention_mask = tf.keras.layers.Input(shape=(max_length,), dtype=tf.int32, name=\"attention_mask\")\n",
    "    \n",
    "    distilbert_outputs = distilbert_model([input_ids, attention_mask])\n",
    "    pooled_output = distilbert_outputs.last_hidden_state[:, 0]\n",
    "    \n",
    "    dense = tf.keras.layers.Dense(128, activation='relu')(pooled_output)\n",
    "    dropout = tf.keras.layers.Dropout(0.3)(dense)\n",
    "    output = tf.keras.layers.Dense(1, activation='sigmoid')(dropout)\n",
    "    \n",
    "    model = tf.keras.Model(inputs=[input_ids, attention_mask], outputs=output)\n",
    "    \n",
    "    model.compile(optimizer=tf.keras.optimizers.Adam(learning_rate=2e-5), \n",
    "                  loss='binary_crossentropy', metrics=['accuracy'])\n",
    "    \n",
    "    return model\n",
    "\n",
    "classification_model = create_classification_model()"
   ]
  },
  {
   "cell_type": "code",
   "execution_count": 15,
   "metadata": {
    "execution": {
     "iopub.execute_input": "2024-10-18T21:22:10.747057Z",
     "iopub.status.busy": "2024-10-18T21:22:10.746744Z",
     "iopub.status.idle": "2024-10-18T22:46:21.695751Z",
     "shell.execute_reply": "2024-10-18T22:46:21.694822Z",
     "shell.execute_reply.started": "2024-10-18T21:22:10.747024Z"
    },
    "trusted": true
   },
   "outputs": [
    {
     "name": "stdout",
     "output_type": "stream",
     "text": [
      "21066/21066 [==============================] - 5050s 238ms/step - loss: 0.2126 - accuracy: 0.9090\n"
     ]
    },
    {
     "data": {
      "text/plain": [
       "<tf_keras.src.callbacks.History at 0x789ea9f26320>"
      ]
     },
     "execution_count": 15,
     "metadata": {},
     "output_type": "execute_result"
    }
   ],
   "source": [
    "import numpy as np\n",
    "\n",
    "classification_model.fit(\n",
    "    [np.array(train_input_ids), np.array(train_encodings_attention)], \n",
    "    np.array(train_labels),\n",
    "    batch_size=32,\n",
    "    epochs=1\n",
    ")"
   ]
  },
  {
   "cell_type": "code",
   "execution_count": 16,
   "metadata": {
    "execution": {
     "iopub.execute_input": "2024-10-18T22:46:31.550303Z",
     "iopub.status.busy": "2024-10-18T22:46:31.549889Z",
     "iopub.status.idle": "2024-10-18T22:49:19.179725Z",
     "shell.execute_reply": "2024-10-18T22:49:19.178775Z",
     "shell.execute_reply.started": "2024-10-18T22:46:31.550267Z"
    },
    "trusted": true
   },
   "outputs": [
    {
     "name": "stdout",
     "output_type": "stream",
     "text": [
      "700/700 [==============================] - 167s 238ms/step - loss: 0.1232 - accuracy: 0.9528\n"
     ]
    },
    {
     "data": {
      "text/plain": [
       "<tf_keras.src.callbacks.History at 0x789eab433970>"
      ]
     },
     "execution_count": 16,
     "metadata": {},
     "output_type": "execute_result"
    }
   ],
   "source": [
    "classification_model.fit(\n",
    "    [np.array(train_input_ids), np.array(train_encodings_attention)], \n",
    "    np.array(train_labels),\n",
    "    batch_size=32,\n",
    "    epochs=1,\n",
    "    steps_per_epoch = 700\n",
    ")"
   ]
  },
  {
   "cell_type": "code",
   "execution_count": 14,
   "metadata": {
    "execution": {
     "iopub.execute_input": "2024-10-03T14:46:02.797748Z",
     "iopub.status.busy": "2024-10-03T14:46:02.796974Z",
     "iopub.status.idle": "2024-10-03T14:58:43.325760Z",
     "shell.execute_reply": "2024-10-03T14:58:43.324937Z",
     "shell.execute_reply.started": "2024-10-03T14:46:02.797705Z"
    },
    "trusted": true
   },
   "outputs": [
    {
     "name": "stdout",
     "output_type": "stream",
     "text": [
      "9028/9028 [==============================] - 760s 84ms/step - loss: 0.1784 - accuracy: 0.9341\n"
     ]
    },
    {
     "data": {
      "text/plain": [
       "[0.1784386932849884, 0.934076189994812]"
      ]
     },
     "execution_count": 14,
     "metadata": {},
     "output_type": "execute_result"
    }
   ],
   "source": [
    "classification_model.evaluate([np.array(dev_input_ids), np.array(dev_encodings_attention)], np.array(dev_labels))"
   ]
  },
  {
   "cell_type": "code",
   "execution_count": 21,
   "metadata": {
    "execution": {
     "iopub.execute_input": "2024-10-03T15:21:47.789922Z",
     "iopub.status.busy": "2024-10-03T15:21:47.789200Z",
     "iopub.status.idle": "2024-10-03T15:21:48.323977Z",
     "shell.execute_reply": "2024-10-03T15:21:48.323078Z",
     "shell.execute_reply.started": "2024-10-03T15:21:47.789879Z"
    },
    "trusted": true
   },
   "outputs": [
    {
     "name": "stdout",
     "output_type": "stream",
     "text": [
      "test_input_ids shape: (2, 128)\n",
      "test_attention_mask shape: (2, 128)\n",
      "1/1 [==============================] - 0s 38ms/step\n",
      "Text: i need to sleep i am not good\n",
      "Language: en\n",
      "Predicted Label: Human-Generated\n",
      "\n",
      "Text: 我不确定你想要问的是什么，但是阿玛尼是一个奢侈品牌，它的产品包括化妆品、香水和时装。黑手党是指一种犯罪组织\n",
      "Language: zh\n",
      "Predicted Label: Machine-Generated\n",
      "\n"
     ]
    }
   ],
   "source": [
    "import numpy as np\n",
    "import tensorflow as tf\n",
    "from transformers import DistilBertTokenizer\n",
    "from sklearn.preprocessing import OneHotEncoder\n",
    "\n",
    "tokenizer = DistilBertTokenizer.from_pretrained('distilbert-base-multilingual-cased')\n",
    "\n",
    "test_texts = [\"i need to sleep i am not good\", \"我不确定你想要问的是什么，但是阿玛尼是一个奢侈品牌，它的产品包括化妆品、香水和时装。黑手党是指一种犯罪组织\"] \n",
    "test_langs = [\"en\", \"zh\"]  \n",
    "\n",
    "max_length = 128  \n",
    "test_encodings = tokenizer(\n",
    "    test_texts,\n",
    "    max_length=max_length,\n",
    "    padding='max_length',  \n",
    "    truncation=True,  \n",
    "    return_tensors=\"tf\"  \n",
    ")\n",
    "\n",
    "test_input_ids = test_encodings['input_ids']  \n",
    "test_attention_mask = test_encodings['attention_mask']  \n",
    "\n",
    "print(f\"test_input_ids shape: {test_input_ids.shape}\")  \n",
    "print(f\"test_attention_mask shape: {test_attention_mask.shape}\") \n",
    "\n",
    "test_predictions = classification_model.predict([test_input_ids, test_attention_mask])\n",
    "\n",
    "predicted_labels = (test_predictions > 0.5).astype(int)\n",
    "\n",
    "for i, (text, lang, prediction) in enumerate(zip(test_texts, test_langs, predicted_labels)):\n",
    "    label = 'Machine-Generated' if prediction == 1 else 'Human-Generated'\n",
    "    print(f\"Text: {text}\")\n",
    "    print(f\"Language: {lang}\")\n",
    "    print(f\"Predicted Label: {label}\\n\")\n"
   ]
  },
  {
   "cell_type": "code",
   "execution_count": 17,
   "metadata": {
    "execution": {
     "iopub.execute_input": "2024-10-18T22:49:26.974629Z",
     "iopub.status.busy": "2024-10-18T22:49:26.974239Z",
     "iopub.status.idle": "2024-10-18T23:01:53.625648Z",
     "shell.execute_reply": "2024-10-18T23:01:53.624706Z",
     "shell.execute_reply.started": "2024-10-18T22:49:26.974591Z"
    },
    "trusted": true
   },
   "outputs": [
    {
     "name": "stdout",
     "output_type": "stream",
     "text": [
      "9028/9028 [==============================] - 740s 81ms/step\n",
      "Classification Report:\n",
      "              precision    recall  f1-score   support\n",
      "\n",
      "           0       0.97      0.82      0.89    110166\n",
      "           1       0.90      0.98      0.94    178728\n",
      "\n",
      "    accuracy                           0.92    288894\n",
      "   macro avg       0.93      0.90      0.91    288894\n",
      "weighted avg       0.92      0.92      0.92    288894\n",
      "\n"
     ]
    },
    {
     "data": {
      "image/png": "[encoded data removed]",
      "text/plain": [
       "<Figure size 800x600 with 2 Axes>"
      ]
     },
     "metadata": {},
     "output_type": "display_data"
    }
   ],
   "source": [
    "from sklearn.metrics import classification_report, confusion_matrix\n",
    "import matplotlib.pyplot as plt\n",
    "import seaborn as sns\n",
    "\n",
    "y_pred_probs = classification_model.predict([np.array(dev_input_ids), np.array(dev_encodings_attention)])\n",
    "y_pred = (y_pred_probs > 0.5).astype(int) \n",
    "\n",
    "print(\"Classification Report:\")\n",
    "print(classification_report(dev_labels, y_pred))\n",
    "\n",
    "cm = confusion_matrix(dev_labels, y_pred)\n",
    "\n",
    "plt.figure(figsize=(8,6))\n",
    "sns.heatmap(cm, annot=True, fmt='d', cmap='Blues', xticklabels=['Human', 'AI'], yticklabels=['Human', 'AI'])\n",
    "plt.ylabel('Actual')\n",
    "plt.xlabel('Predicted')\n",
    "plt.title('Confusion Matrix')\n",
    "plt.show()\n"
   ]
  },
  {
   "cell_type": "code",
   "execution_count": 18,
   "metadata": {
    "execution": {
     "iopub.execute_input": "2024-10-18T23:02:07.359523Z",
     "iopub.status.busy": "2024-10-18T23:02:07.358647Z",
     "iopub.status.idle": "2024-10-18T23:02:07.940018Z",
     "shell.execute_reply": "2024-10-18T23:02:07.939045Z",
     "shell.execute_reply.started": "2024-10-18T23:02:07.359480Z"
    },
    "trusted": true
   },
   "outputs": [
    {
     "name": "stdout",
     "output_type": "stream",
     "text": [
      "  Language  Accuracy\n",
      "0       en  0.917036\n",
      "1       zh  0.955524\n",
      "2       de  0.977659\n",
      "3       id  0.956184\n",
      "4       it  1.000000\n",
      "5       bg  0.914302\n",
      "6       ar  0.955850\n",
      "7       ur  0.997457\n",
      "8       ru  0.915000\n"
     ]
    }
   ],
   "source": [
    "import pandas as pd\n",
    "import numpy as np\n",
    "from sklearn.metrics import accuracy_score\n",
    "\n",
    "languages = train_df['lang'].unique()\n",
    "\n",
    "language_accuracy = {}\n",
    "\n",
    "dev_df = dev_df.copy()\n",
    "dev_df['predictions'] = y_pred\n",
    "\n",
    "for lang in languages:\n",
    "    lang_filter = dev_df['lang'] == lang\n",
    "    lang_predictions = dev_df.loc[lang_filter, 'predictions']\n",
    "    lang_true_labels = dev_df.loc[lang_filter, 'label']\n",
    "    \n",
    "    if len(lang_true_labels) > 0:  # Check if there are true labels for this language\n",
    "        accuracy = accuracy_score(lang_true_labels, lang_predictions)\n",
    "        language_accuracy[lang] = accuracy\n",
    "\n",
    "accuracy_df = pd.DataFrame.from_dict(language_accuracy, orient='index', columns=['Accuracy'])\n",
    "accuracy_df.index.name = 'Language'\n",
    "accuracy_df.reset_index(inplace=True)\n",
    "\n",
    "print(accuracy_df)\n"
   ]
  },
  {
   "cell_type": "code",
   "execution_count": 21,
   "metadata": {
    "execution": {
     "iopub.execute_input": "2024-10-18T23:03:19.984359Z",
     "iopub.status.busy": "2024-10-18T23:03:19.983618Z",
     "iopub.status.idle": "2024-10-18T23:04:11.263999Z",
     "shell.execute_reply": "2024-10-18T23:04:11.263148Z",
     "shell.execute_reply.started": "2024-10-18T23:03:19.984322Z"
    },
    "trusted": true
   },
   "outputs": [
    {
     "name": "stdout",
     "output_type": "stream",
     "text": [
      "\u001b[1m9028/9028\u001b[0m \u001b[32m━━━━━━━━━━━━━━━━━━━━\u001b[0m\u001b[37m\u001b[0m \u001b[1m47s\u001b[0m 5ms/step\n"
     ]
    }
   ],
   "source": [
    "from tensorflow.keras.models import load_model \n",
    "\n",
    "deberta_model = tf.keras.models.load_model('/kaggle/input/mylstmmodel/tensorflow2/default/1/derberta_model.h5')\n",
    "import pickle\n",
    "batch_size = 32\n",
    "with open('/kaggle/input/deberta-dev/dev_encoding.pkl', 'rb') as file:\n",
    "    dev_encodings = pickle.load(file)\n",
    "    \n",
    "dev_input_ids_deberta_tensor = tf.convert_to_tensor(np.array(dev_encodings).squeeze())\n",
    "\n",
    "dev_labels_tensor = tf.convert_to_tensor(dev_labels)\n",
    "\n",
    "dev_dataset = tf.data.Dataset.from_tensor_slices((dev_input_ids_deberta_tensor, dev_labels_tensor)).batch(batch_size)\n",
    "y_pred_probs_deberta = deberta_model.predict(dev_dataset)\n",
    "y_pred_deberta = (y_pred_probs_deberta > 0.5).astype(int)"
   ]
  },
  {
   "cell_type": "code",
   "execution_count": 22,
   "metadata": {
    "execution": {
     "iopub.execute_input": "2024-10-18T23:04:16.070408Z",
     "iopub.status.busy": "2024-10-18T23:04:16.070030Z",
     "iopub.status.idle": "2024-10-18T23:04:16.077359Z",
     "shell.execute_reply": "2024-10-18T23:04:16.076485Z",
     "shell.execute_reply.started": "2024-10-18T23:04:16.070371Z"
    },
    "trusted": true
   },
   "outputs": [],
   "source": [
    "y_pred_probs_ensemble = (y_pred_probs_deberta + y_pred_probs) / 2\n",
    "y_pred_ensemble = (y_pred_probs_ensemble > 0.5).astype(int)"
   ]
  },
  {
   "cell_type": "code",
   "execution_count": 23,
   "metadata": {
    "execution": {
     "iopub.execute_input": "2024-10-18T23:04:18.619423Z",
     "iopub.status.busy": "2024-10-18T23:04:18.619051Z",
     "iopub.status.idle": "2024-10-18T23:04:18.939782Z",
     "shell.execute_reply": "2024-10-18T23:04:18.938875Z",
     "shell.execute_reply.started": "2024-10-18T23:04:18.619388Z"
    },
    "trusted": true
   },
   "outputs": [
    {
     "name": "stdout",
     "output_type": "stream",
     "text": [
      "Classification Report:\n",
      "              precision    recall  f1-score   support\n",
      "\n",
      "           0       0.97      0.92      0.95    110166\n",
      "           1       0.95      0.98      0.97    178728\n",
      "\n",
      "    accuracy                           0.96    288894\n",
      "   macro avg       0.96      0.95      0.96    288894\n",
      "weighted avg       0.96      0.96      0.96    288894\n",
      "\n"
     ]
    },
    {
     "data": {
      "image/png": "[encoded data removed]",
      "text/plain": [
       "<Figure size 800x600 with 2 Axes>"
      ]
     },
     "metadata": {},
     "output_type": "display_data"
    }
   ],
   "source": [
    "print(\"Classification Report:\")\n",
    "print(classification_report(dev_labels, y_pred_ensemble))\n",
    "\n",
    "cm = confusion_matrix(dev_labels, y_pred_ensemble)\n",
    "\n",
    "plt.figure(figsize=(8, 6))\n",
    "sns.heatmap(cm, annot=True, fmt='d', cmap='Blues', xticklabels=['Human', 'AI'], yticklabels=['Human', 'AI'])\n",
    "plt.ylabel('Actual')\n",
    "plt.xlabel('Predicted')\n",
    "plt.title('Confusion Matrix')\n",
    "plt.show()"
   ]
  },
  {
   "cell_type": "code",
   "execution_count": 24,
   "metadata": {
    "execution": {
     "iopub.execute_input": "2024-10-18T23:04:46.966294Z",
     "iopub.status.busy": "2024-10-18T23:04:46.965460Z",
     "iopub.status.idle": "2024-10-18T23:04:47.533365Z",
     "shell.execute_reply": "2024-10-18T23:04:47.532281Z",
     "shell.execute_reply.started": "2024-10-18T23:04:46.966256Z"
    },
    "trusted": true
   },
   "outputs": [
    {
     "name": "stdout",
     "output_type": "stream",
     "text": [
      "  Language  Accuracy\n",
      "0       en  0.959125\n",
      "1       zh  0.963309\n",
      "2       de  0.963089\n",
      "3       id  0.963394\n",
      "4       it  1.000000\n",
      "5       bg  0.911436\n",
      "6       ar  0.942605\n",
      "7       ur  0.997457\n",
      "8       ru  0.895000\n"
     ]
    }
   ],
   "source": [
    "import pandas as pd\n",
    "import numpy as np\n",
    "from sklearn.metrics import accuracy_score\n",
    "\n",
    "languages = train_df['lang'].unique()\n",
    "\n",
    "language_accuracy = {}\n",
    "\n",
    "\n",
    "y_pred = y_pred_ensemble\n",
    "\n",
    "dev_df = dev_df.copy()\n",
    "dev_df['predictions'] = y_pred\n",
    "\n",
    "for lang in languages:\n",
    "    lang_filter = dev_df['lang'] == lang\n",
    "    lang_predictions = dev_df.loc[lang_filter, 'predictions']\n",
    "    lang_true_labels = dev_df.loc[lang_filter, 'label']\n",
    "    \n",
    "    if len(lang_true_labels) > 0: \n",
    "        accuracy = accuracy_score(lang_true_labels, lang_predictions)\n",
    "        language_accuracy[lang] = accuracy\n",
    "\n",
    "accuracy_df = pd.DataFrame.from_dict(language_accuracy, orient='index', columns=['Accuracy'])\n",
    "accuracy_df.index.name = 'Language'\n",
    "accuracy_df.reset_index(inplace=True)\n",
    "\n",
    "print(accuracy_df)\n"
   ]
  },
  {
   "cell_type": "code",
   "execution_count": null,
   "metadata": {
    "trusted": true
   },
   "outputs": [],
   "source": []
  }
 ],
 "metadata": {
  "kaggle": {
   "accelerator": "gpu",
   "dataSources": [
    {
     "datasetId": 5754014,
     "sourceId": 9463639,
     "sourceType": "datasetVersion"
    },
    {
     "datasetId": 5754115,
     "sourceId": 9463778,
     "sourceType": "datasetVersion"
    },
    {
     "datasetId": 5754691,
     "sourceId": 9464571,
     "sourceType": "datasetVersion"
    },
    {
     "datasetId": 5754745,
     "sourceId": 9464638,
     "sourceType": "datasetVersion"
    },
    {
     "datasetId": 5873947,
     "sourceId": 9623431,
     "sourceType": "datasetVersion"
    },
    {
     "sourceId": 198001510,
     "sourceType": "kernelVersion"
    },
    {
     "isSourceIdPinned": true,
     "modelId": 140848,
     "modelInstanceId": 117616,
     "sourceId": 138881,
     "sourceType": "modelInstanceVersion"
    }
   ],
   "dockerImageVersionId": 30786,
   "isGpuEnabled": true,
   "isInternetEnabled": true,
   "language": "python",
   "sourceType": "notebook"
  },
  "kernelspec": {
   "display_name": "Python 3",
   "language": "python",
   "name": "python3"
  },
  "language_info": {
   "codemirror_mode": {
    "name": "ipython",
    "version": 3
   },
   "file_extension": ".py",
   "mimetype": "text/x-python",
   "name": "python",
   "nbconvert_exporter": "python",
   "pygments_lexer": "ipython3",
   "version": "3.10.14"
  }
 },
 "nbformat": 4,
 "nbformat_minor": 4
}
